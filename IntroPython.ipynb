{
 "cells": [
  {
   "cell_type": "markdown",
   "id": "2e166f55",
   "metadata": {},
   "source": [
    "# Introduction to Python"
   ]
  },
  {
   "cell_type": "markdown",
   "id": "68bea338",
   "metadata": {},
   "source": [
    "Python is a high-level, general-purpose programming language that is widely used in data science, engineering, and scientific computing. Compared to MATLAB, Python is open-source, free, and highly extensible with scientific libraries like NumPy, SciPy, and Matplotlib.\n",
    "\n",
    "You can write Python code in any text edition (e.g., Notepad). A python file ends in the extension .py. There also exist several integrated development environment (IDEs) such as Spyder, VSCode, etc. which make the code writing part easy. When you use such an IDE, you need to first write your code and then *compile* it. Python will always compile your entire file. This can be time consuming, as sometimes you would like to compile only a part of your code - to e.g., plot some data."
   ]
  },
  {
   "cell_type": "markdown",
   "id": "c4839b45",
   "metadata": {},
   "source": [
    "## 📓 Getting Started with Jupyter Notebooks  \n",
    "\n",
    "In data science, it is common to use **Jupyter Notebooks**. Jupyter Notebook is an interactive environment where you can mix code, text, and plots in one document. You are currently reading a Jupyter Notebook. Notebooks have the extension .ipynb  \n",
    "\n",
    "When you open a notebook, you’ll see **cells**. A cell can contain either:  \n",
    "- **Code cells** (Python code that can be run)  \n",
    "- **Markdown cells** (text, headings, math equations, notes)  \n",
    "\n",
    "---"
   ]
  },
  {
   "cell_type": "markdown",
   "id": "7251d2d0",
   "metadata": {},
   "source": [
    "This is a markdown cell. \n",
    "\n",
    "I can write text\n",
    "\n",
    "I can write equations: $y = a_0 + a_1 b$"
   ]
  },
  {
   "cell_type": "code",
   "execution_count": null,
   "id": "9bf6df21",
   "metadata": {},
   "outputs": [],
   "source": [
    "# This is a code cell\n",
    "# On the left of the code cell, you always see In [ ]. This represents the code you will put in.\n",
    "print(\"Welcome to Python\")\n",
    "# To execute a cell, press Ctrl-Entr\n",
    "# Try it"
   ]
  },
  {
   "cell_type": "markdown",
   "id": "a6da3991",
   "metadata": {},
   "source": [
    "You will notice the command is executed and the ouput is displayed beow your Input cell. \n",
    "You might notice, the cell has a blue boundary. This is the *read only* view. \n",
    "\n",
    "Click on a cell and hit Entr.\n",
    "The boundary turns green, and now you can edit the cell.\n",
    "Press Esc to go back into read-only mode."
   ]
  },
  {
   "cell_type": "markdown",
   "id": "8a505e3f",
   "metadata": {},
   "source": [
    "\n",
    "### Basic Notebook Commands  \n",
    "\n",
    "- **Run a cell**:  \n",
    "  - `Ctrl + Enter` → run the current cell (stay in the same cell)  \n",
    "  - `Shift + Enter` → run the current cell and move to the next one  \n",
    "  - `Alt + Enter` → run the current cell and insert a new cell below  \n",
    "\n",
    "- **Editing vs Command mode**:  \n",
    "  - `Enter` → edit the cell (green border)  \n",
    "  - `Esc` → command mode (blue border)  \n",
    "\n",
    "- **Useful commands in Command mode**:  \n",
    "  - `A` → insert cell **above**  \n",
    "  - `B` → insert cell **below**  \n",
    "  - `D, D` (press twice) → delete a cell  \n",
    "  - `M` → change cell to **Markdown**  \n",
    "  - `Y` → change cell to **Code**  \n",
    "\n",
    "---"
   ]
  },
  {
   "cell_type": "markdown",
   "id": "5a3b7b47",
   "metadata": {},
   "source": [
    "### 🔢 Python as a Calculator  \n",
    "\n",
    "Python can be used interactively as a **calculator** in the terminal or in a Jupyter Notebook.  \n",
    "\n",
    "---\n",
    "\n",
    "#### Arithmetic Operators  \n",
    "\n",
    "| Operation            | Python Syntax | Example (`x=10, y=3`) | Result   |\n",
    "|----------------------|---------------|------------------------|----------|\n",
    "| Addition             | `+`           | `x + y`               | 13       |\n",
    "| Subtraction          | `-`           | `x - y`               | 7        |\n",
    "| Multiplication       | `*`           | `x * y`               | 30       |\n",
    "| Division             | `/`           | `x / y`               | 3.333…   |\n",
    "| Floor Division       | `//`          | `x // y`              | 3        |\n",
    "| Modulus (remainder)  | `%`           | `x % y`               | 1        |\n",
    "| Power                | `**`          | `x ** y`              | 1000     |\n",
    "\n",
    "⚠️ **Notes**:  \n",
    "- In MATLAB, power is `^`. In Python, it is `**`.  \n",
    "- Division `/` always returns a float, even if divisible.  \n",
    "\n",
    "---"
   ]
  },
  {
   "cell_type": "code",
   "execution_count": null,
   "id": "ea020c9b",
   "metadata": {},
   "outputs": [],
   "source": [
    "# Here is an example of addition\n",
    "5 + 3\n",
    "# Press Ctrl-Entr tp compile this"
   ]
  },
  {
   "cell_type": "markdown",
   "id": "db4781d1",
   "metadata": {},
   "source": [
    "**Exercise 1**: Go ahead and give it a try. Try different mathematical operators, create new cells, get comfortable with Jupyter Notebooks."
   ]
  },
  {
   "cell_type": "code",
   "execution_count": null,
   "id": "0f946be8",
   "metadata": {},
   "outputs": [],
   "source": [
    "10/3"
   ]
  },
  {
   "cell_type": "code",
   "execution_count": null,
   "id": "395cc9eb",
   "metadata": {},
   "outputs": [],
   "source": [
    "10%3"
   ]
  },
  {
   "cell_type": "code",
   "execution_count": null,
   "id": "51e31560",
   "metadata": {},
   "outputs": [],
   "source": [
    "10//3"
   ]
  },
  {
   "cell_type": "code",
   "execution_count": null,
   "id": "71aa416c",
   "metadata": {},
   "outputs": [],
   "source": [
    "10**3"
   ]
  },
  {
   "cell_type": "markdown",
   "id": "b2f37c55",
   "metadata": {},
   "source": [
    "A calculator should also include mathematical operators like sine, cosine, exponent, log, etc. However, python does not have these operators natively. To make use of them, we need to import other packages. A common package used for numerical computation is NumPy. You can import the NumPy package (or any other package) as follows:"
   ]
  },
  {
   "cell_type": "code",
   "execution_count": null,
   "id": "02649e47",
   "metadata": {},
   "outputs": [],
   "source": [
    "import numpy as np\n",
    "# Ctrl-Entr will execute this cell and import numpy"
   ]
  },
  {
   "cell_type": "code",
   "execution_count": null,
   "id": "84341e07",
   "metadata": {},
   "outputs": [],
   "source": [
    "# To now calculate sine(30)\n",
    "np.sin(30)"
   ]
  },
  {
   "cell_type": "markdown",
   "id": "e2c09afb",
   "metadata": {},
   "source": [
    "Pay attention to the usage. In last two lines of code we have imported the package numpy into a variable (we will talk more about variables later) called *np* . Everytime we want to use a command which is contained in the package numpy, we need to use it as np.*command_name*. Thus, in cell above, to get the sine of a number we use command *sin* from numpy, and use it as np.sin\n",
    "\n",
    "Try other numpy commands below. Get cosine, log, square root, exponent of any numbers you like. Google what commands need to be used. \n",
    "\n",
    "In coding, Google (and now ChatGPT) is your best friend. Use them, but don't blindly trust GenAI. It hallucinates."
   ]
  },
  {
   "cell_type": "code",
   "execution_count": null,
   "id": "66393e35",
   "metadata": {},
   "outputs": [],
   "source": []
  },
  {
   "cell_type": "code",
   "execution_count": null,
   "id": "22b1ec65",
   "metadata": {},
   "outputs": [],
   "source": []
  },
  {
   "cell_type": "code",
   "execution_count": null,
   "id": "968f18c0",
   "metadata": {},
   "outputs": [],
   "source": []
  },
  {
   "cell_type": "code",
   "execution_count": null,
   "id": "26978aa5",
   "metadata": {},
   "outputs": [],
   "source": []
  },
  {
   "cell_type": "markdown",
   "id": "dcb8b3cf",
   "metadata": {},
   "source": [
    "\n",
    "### What is a variable?\n",
    "A **variable** is a name that refers to a value stored in memory. In Python, variables are created by *assignment*. We use variable as follows:\n",
    "\n",
    "*variable_name* = *variable_value*\n",
    "\n",
    "In python, the variable value on the right will be assinged to the variable name on the left. `=` is the *assignment* operator, and should not be used as equal to.\n",
    "\n",
    "- Python is **dynamically typed**: a name can refer to values of different types at different times.  \n",
    "- Everything is an **object**: even numbers and strings are objects with behavior."
   ]
  },
  {
   "cell_type": "code",
   "execution_count": null,
   "id": "94faee17",
   "metadata": {},
   "outputs": [],
   "source": [
    "# Creating a few variables by assignment\n",
    "temperature_C = 72.5         # fermentation temperature in °C\n",
    "mass_flour_g = 750           # mass of flour in grams\n",
    "ph_value = 4.1               # pH of a sourdough\n",
    "sample_id = \"BATCH-2025-08\"  # a string identifier\n",
    "\n",
    "temperature_C, mass_flour_g, ph_value, sample_id"
   ]
  },
  {
   "cell_type": "markdown",
   "id": "c8a00fe3",
   "metadata": {},
   "source": [
    "#### Variable naming rules (syntax) — **what's allowed**\n",
    "\n",
    "A valid Python variable name must follow these rules:\n",
    "\n",
    "1. Uses **letters** (`A–Z` or `a–z`), **digits** (`0–9`), and **underscores** (`_`) only.  \n",
    "2. **Cannot start with a digit**.  \n",
    "3. **Case-sensitive**: `mass` and `Mass` are different names.  \n",
    "4. **Cannot be a Python keyword** (e.g., `for`, `class`, `if`, `True`, etc.).  \n",
    "5. May contain **Unicode letters** (e.g., `μ`, `Δ`) but avoid them in production code.\n",
    "\n",
    "**Conventions (PEP 8):**\n",
    "- Use `snake_case` → `cooling_rate`, `batch_volume_l`.  \n",
    "- Use UPPER_CASE for constants → `R_GAS_CONSTANT`.  \n",
    "- Avoid single-letter names except for loop counters.  \n",
    "- Don’t shadow built-ins → avoid `list`, `sum`, `id`.\n"
   ]
  },
  {
   "cell_type": "code",
   "execution_count": null,
   "id": "02c24316",
   "metadata": {},
   "outputs": [],
   "source": [
    "# ✅ Valid names\n",
    "batch_volume_L = 1.5\n",
    "mass_water_g = 300\n",
    "T_setpoint_C = 30\n",
    "cooling_rate = 2.0\n",
    "dry_matter_fraction = 0.86\n",
    "μ_growth = 0.42  # valid but less portable\n",
    "\n",
    "# ❌ Invalid names (uncomment to test)\n",
    "# 2nd_sample = 5\n",
    "# mass-flour = 1000\n",
    "# ph value = 3.9\n",
    "# class = 10\n"
   ]
  },
  {
   "cell_type": "markdown",
   "id": "a8dd3f3a",
   "metadata": {},
   "source": [
    "#### Best practices: clarity and units\n",
    "\n",
    "- Include **units** in names when helpful: `mass_salt_g`, `temperature_C`, `time_min`.\n",
    "- Prefer **descriptive** names: `evaporation_rate_g_per_min` better than `er`.\n",
    "- Be **consistent** with your naming style (use `snake_case`, same unit suffixes everywhere).\n",
    "\n",
    "\n",
    "##### Less clear\n",
    "er = 3.1\n",
    "\n",
    "temp = 72.5\n",
    "\n",
    "salt = 14\n",
    "\n",
    "##### More clear (with units + snake_case)\n",
    "evaporation_rate_g_per_min = 3.1\n",
    "\n",
    "temperature_C = 72.5\n",
    "\n",
    "mass_salt_g = 14\n",
    "\n",
    "##### Consistency example: keep unit suffixes aligned across variables\n",
    "mass_flour_g = 700\n",
    "\n",
    "mass_water_g = 420\n",
    "\n",
    "salt_g = 14\n"
   ]
  },
  {
   "cell_type": "markdown",
   "id": "e4bc0ea8",
   "metadata": {},
   "source": [
    "### 🥛 Exercise: Energy Content of Milk\n",
    "\n",
    "Milk contains energy from **protein**, **fat**, and **carbohydrates**.  \n",
    "The approximate energy contributions per gram are:\n",
    "\n",
    "- Protein = 4 kcal/g  \n",
    "- Carbohydrate = 4 kcal/g  \n",
    "- Fat = 9 kcal/g  \n",
    "\n",
    "A sample of milk has the following composition (per 100 g of milk):  \n",
    "- Protein = 3.4 g  \n",
    "- Fat = 3.7 g  \n",
    "- Carbohydrates = 4.8 g  \n",
    "\n",
    "---\n",
    "\n",
    "### Task\n",
    "\n",
    "1. Create variables in Python for `protein`, `fat`, and `carbohydrates` (grams per 100 g of milk).  \n",
    "2. Create variables for the energy contribution of each nutrient (`protein_kcal`, `fat_kcal`, `carb_kcal`).  \n",
    "3. Calculate the **total energy** of 100 g of milk.  \n",
    "4. Print the result.\n",
    "\n",
    "---\n",
    "\n"
   ]
  },
  {
   "cell_type": "code",
   "execution_count": null,
   "id": "b2a12ad1",
   "metadata": {},
   "outputs": [],
   "source": [
    "\n",
    "\n"
   ]
  },
  {
   "cell_type": "code",
   "execution_count": null,
   "id": "534aa1df",
   "metadata": {},
   "outputs": [],
   "source": []
  },
  {
   "cell_type": "code",
   "execution_count": null,
   "id": "544ffaee",
   "metadata": {},
   "outputs": [],
   "source": []
  },
  {
   "cell_type": "markdown",
   "id": "a6237b19",
   "metadata": {},
   "source": [
    "### Exercise:  Temperature conversion (Celsius → Kelvin)\n",
    "You have 8 temperature readings from a cold chain log: `[-2.5, 0.0, 1.2, 3.8, 4.1, -0.4, 2.7, 3.3]` °C. Convert them to Kelvin using `K = C + 273.15`. Store the result in a list called `K_list`."
   ]
  },
  {
   "cell_type": "code",
   "execution_count": null,
   "id": "a7ccf4da",
   "metadata": {},
   "outputs": [],
   "source": []
  },
  {
   "cell_type": "code",
   "execution_count": null,
   "id": "c57a58ea",
   "metadata": {},
   "outputs": [],
   "source": []
  },
  {
   "cell_type": "markdown",
   "id": "75323654",
   "metadata": {},
   "source": [
    "## NumPy Arrays\n",
    "\n",
    "In scientific computing, we often work with **lots of numbers at once** — sensor readings, lab measurements, time series data, images, etc.  \n",
    "Python lists can store numbers, but they are **not optimized for numerical math**. This is where **NumPy arrays** come in.  \n",
    "\n",
    "---\n",
    "\n",
    "### What is a NumPy array?\n",
    "\n",
    "- A NumPy array is like a **grid of values**, all of the same type (e.g., all floats or all integers).  \n",
    "- Arrays can be **1-D (vector), 2-D (matrix), or higher-dimensional (tensors)**.  \n",
    "- NumPy implements **fast vectorized operations**, so instead of looping through values one by one, you apply a formula to the whole array at once.  \n",
    "\n",
    "---\n",
    "\n",
    "### Why use arrays instead of lists?\n",
    "\n",
    "✅ Faster calculations (NumPy is written in C under the hood)  \n",
    "✅ Less code — no need for manual loops  \n",
    "✅ Convenient mathematical notation (`+`, `-`, `*`, `/` work elementwise)  \n",
    "✅ Lots of built-in functions for statistics, linear algebra, Fourier transforms, etc.  \n",
    "\n",
    "---\n"
   ]
  },
  {
   "cell_type": "code",
   "execution_count": null,
   "id": "33690080",
   "metadata": {},
   "outputs": [],
   "source": [
    "# Example & Syntax \n",
    "import numpy as np\n",
    "\n",
    "# Create arrays\n",
    "a = np.array([1, 2, 3, 4])\n",
    "b = np.array([10, 20, 30, 40])\n",
    "\n",
    "# Vectorized operations\n",
    "print(a + b)       # [11 22 33 44]\n",
    "print(a * b)       # [ 10  40  90 160]\n",
    "print(np.sqrt(a))  # [1.    1.41 1.73 2.  ]\n"
   ]
  },
  {
   "cell_type": "markdown",
   "id": "1d61a12f",
   "metadata": {},
   "source": [
    "### Exercise:  Temperature conversion (Celsius → Kelvin)\n",
    "You have 8 temperature readings from a cold chain log: `[-2.5, 0.0, 1.2, 3.8, 4.1, -0.4, 2.7, 3.3]` °C. Convert them to Kelvin using `K = C + 273.15`. Store the result in a list called `K_list`. Use array this time."
   ]
  },
  {
   "cell_type": "code",
   "execution_count": null,
   "id": "28dfb5ec",
   "metadata": {},
   "outputs": [],
   "source": []
  },
  {
   "cell_type": "code",
   "execution_count": null,
   "id": "af4c8300",
   "metadata": {},
   "outputs": [],
   "source": []
  },
  {
   "cell_type": "code",
   "execution_count": null,
   "id": "d4fbebec",
   "metadata": {},
   "outputs": [],
   "source": []
  },
  {
   "cell_type": "markdown",
   "id": "4449c1a8",
   "metadata": {},
   "source": [
    "### Exercise: Arrhenius across temperatures\n",
    "The rate constant follows Arrhenius: \n",
    "$$ k(T) = A\\,\\exp\\!\\left(-\\dfrac{E_a}{R T}\\right) $$\n",
    "with $A=2.5\\times10^7\\;\\text{s}^{-1}$, $E_a=55\\,\\text{kJ/mol}$, and $R=8.314\\,\\text{J/mol·K}$.\n",
    "\n",
    "Temperatures (°C): `[60, 65, 70, 72, 75, 80]`.\n",
    "\n",
    "**(a)** Convert to Kelvin with NumPy.\n",
    "\n",
    "**(b)** Compute all $k(T)$ in **one expression** using broadcasting."
   ]
  },
  {
   "cell_type": "code",
   "execution_count": null,
   "id": "03939ffd",
   "metadata": {},
   "outputs": [],
   "source": []
  },
  {
   "cell_type": "code",
   "execution_count": null,
   "id": "3adcbc68",
   "metadata": {},
   "outputs": [],
   "source": []
  },
  {
   "cell_type": "markdown",
   "id": "c7328788",
   "metadata": {},
   "source": [
    "### Exercise: Moisture loss during drying\n",
    "A product starts at **70% moisture (wet basis)** and dries exponentially: \n",
    "$$ M(t) = M_\\infty + (M_0 - M_\\infty) e^{-kt} $$\n",
    "with $M_0=0.70$, $M_\\infty=0.08$, and $k=0.35\\,\\text{h}^{-1}$.\n",
    "\n",
    "Compute moisture at times `t = [0, 0.5, 1, 1.5, 2, 3, 4]` hours.\n",
    "\n",
    "**(a)** Do it **all at once** with NumPy arrays to get output variable `M_np`.\n",
    "\n",
    "**(b)** Plot is optional, but if you know matplotlib, try `import matplotlib.pyplot as plt` and plot `t` vs `M_np`."
   ]
  },
  {
   "cell_type": "code",
   "execution_count": null,
   "id": "8335331a",
   "metadata": {},
   "outputs": [],
   "source": []
  },
  {
   "cell_type": "code",
   "execution_count": null,
   "id": "04597e1f",
   "metadata": {},
   "outputs": [],
   "source": []
  },
  {
   "cell_type": "markdown",
   "id": "62c4a6ea",
   "metadata": {},
   "source": [
    "## Plotting in Python with Matplotlib\n",
    "\n",
    "Data is much easier to understand when we **visualize** it.  \n",
    "In Python, the most common library for making scientific plots is **Matplotlib**.  \n",
    "We usually import it like this:\n",
    "\n",
    "```python\n",
    "import matplotlib.pyplot as plt\n",
    "```\n",
    "\n",
    "#### The `plot()` function\n",
    "The basic function for line plots is `plt.plot(x, y)`.\n",
    "`x` is the horizontal axis values, `y` is the vertical axis values.\n",
    "Both must be lists or arrays of the same length."
   ]
  },
  {
   "cell_type": "code",
   "execution_count": null,
   "id": "58221f9f",
   "metadata": {},
   "outputs": [],
   "source": [
    "import numpy as np\n",
    "import matplotlib.pyplot as plt\n",
    "\n",
    "# Example: drying curve\n",
    "t = np.array([0, 1, 2, 3, 4, 5])       # time (hours)\n",
    "M = np.array([0.70, 0.55, 0.42, 0.33, 0.25, 0.20])  # moisture (w.b.)\n",
    "\n",
    "\n",
    "plt.plot(t, M, marker='o')  # line with points\n",
    "# Uncomment the code below line by line. Hit Ctrl-Entr everytime to rerun the cell.\n",
    "\n",
    "# plt.xlabel(\"Time (h)\")\n",
    "# plt.ylabel(\"Moisture (w.b.)\")\n",
    "# plt.title(\"Drying Curve\")\n",
    "# plt.grid(True)  # add grid lines\n",
    "# plt.show()\n"
   ]
  },
  {
   "cell_type": "markdown",
   "id": "ac8fe510",
   "metadata": {},
   "source": [
    "#### Customizing the plot\n",
    "\n",
    "Markers & line styles: `plt.plot(x, y, 'ro--')` → red circles with dashed line\n",
    "\n",
    "Labels & title: `plt.xlabel(\"X axis\")`, `plt.ylabel(\"Y axis\")`, `plt.title(\"My Plot\")`\n",
    "\n",
    "Grid: `plt.grid(True)`\n",
    "\n",
    "Multiple lines: `call plt.plot()` several times before plt.show()"
   ]
  },
  {
   "cell_type": "markdown",
   "id": "300635b8",
   "metadata": {},
   "source": [
    "### Exercise: Arrays + Plotting with Matplotlib\n",
    "\n",
    "In this exercise you will combine **NumPy arrays** for calculations with **Matplotlib** for plotting.  \n",
    "\n",
    "We will look at the **cooling of food products** placed in a cold storage room, modeled by Newton’s law of cooling:\n",
    "\n",
    "$$\n",
    "T(t) = T_{\\infty} + (T_0 - T_{\\infty}) e^{-kt}\n",
    "$$\n",
    "\n",
    "- $ T(t) $: product temperature at time $ t $  \n",
    "- $ T_0 $ : initial temperature of the product  \n",
    "- $ T_{\\infty} $ : ambient (cold storage) temperature  \n",
    "- $ k $: cooling rate constant  \n",
    "\n",
    "---\n",
    "\n",
    "#### Step 1: Define the arrays\n",
    "\n",
    "1. Ambient temperature: `T_inf = 4` °C  \n",
    "2. Cooling constant: `k = 0.25 h⁻¹`  \n",
    "3. Initial temperatures of products:  \n",
    "   - Milk: `T0 = 25 °C`  \n",
    "   - Soup: `T0 = 80 °C`  \n",
    "   - Juice: `T0 = 18 °C`  \n",
    "4. Time points: from 0 to 10 hours (step = 0.5 h). Use `np.linspace`.\n",
    "\n",
    "---\n",
    "\n",
    "#### Step 2: Compute the cooling curves\n",
    "\n",
    "Use NumPy arrays and broadcasting to compute:\n",
    "\n",
    "$$\n",
    "T(t) = T_{\\infty} + (T_0 - T_{\\infty}) \\cdot \\exp(-k t)\n",
    "$$\n",
    "\n",
    "for each product (Milk, Soup, Juice).  \n",
    "\n",
    "---\n",
    "\n",
    "#### Step 3: Plot the results\n",
    "\n",
    "1. Make **one plot** showing the cooling curve of **Milk**.  \n",
    "2. Extend it to show **Milk and Soup together**.  \n",
    "3. Finally, plot **all three products (Milk, Soup, Juice)** in one figure.  \n",
    "\n",
    "---\n",
    "\n",
    "#### Step 4: Customization (self-study)\n",
    "\n",
    "Search online or in the Matplotlib documentation how to:  \n",
    "- Change **line styles** (dashed, dotted, solid)  \n",
    "- Use **different markers** (circles, squares, triangles)  \n",
    "- Change **colors**  \n",
    "- Add a **legend** to label each curve  \n",
    "- Add **title, axis labels, and grid**\n",
    "\n",
    "---\n",
    "\n",
    "#### Starter Code\n",
    "\n",
    "```python\n",
    "import numpy as np\n",
    "import matplotlib.pyplot as plt\n",
    "\n",
    "# Parameters\n",
    "T_inf = 4   # ambient temperature (°C)\n",
    "k = 0.25    # cooling constant (1/h)\n",
    "t = np.linspace(0, 10, 21)  # time from 0 to 10 h, step 0.5 h\n",
    "\n",
    "# Initial temperatures\n",
    "T0_milk = 25\n",
    "T0_soup = 80\n",
    "T0_juice = 18\n",
    "\n",
    "# Cooling curves (TODO: use the formula for each product)\n",
    "T_milk = ...\n",
    "T_soup = ...\n",
    "T_juice = ...\n",
    "\n",
    "# Plot Milk first\n",
    "plt.plot(t, T_milk, ...)\n",
    "plt.xlabel(\"Time (h)\")\n",
    "plt.ylabel(\"Temperature (°C)\")\n",
    "plt.title(\"Cooling curve\")\n",
    "plt.grid(True)\n",
    "plt.show()\n",
    "\n",
    "# TODO: Extend the plot with Soup and Juice curves\n"
   ]
  },
  {
   "cell_type": "code",
   "execution_count": null,
   "id": "c658e643",
   "metadata": {},
   "outputs": [],
   "source": []
  },
  {
   "cell_type": "code",
   "execution_count": null,
   "id": "f605cff9",
   "metadata": {},
   "outputs": [],
   "source": []
  },
  {
   "cell_type": "markdown",
   "id": "bd1631a9",
   "metadata": {},
   "source": [
    "### 2D Arrays in NumPy\n",
    "\n",
    "So far, we’ve mostly worked with **1D arrays** (vectors).  \n",
    "But in many cases (tables, matrices, images, sensor grids), we need **2D arrays**.  \n",
    "\n",
    "A **2D array** is like a **table of numbers** with rows and columns.\n",
    "\n",
    "---\n",
    "\n",
    "#### Creating 2D Arrays\n",
    "\n",
    "You can create a 2D array from a list of lists:\n"
   ]
  },
  {
   "cell_type": "code",
   "execution_count": null,
   "id": "79f8e335",
   "metadata": {},
   "outputs": [],
   "source": [
    "import numpy as np\n",
    "\n",
    "A = np.array([[1, 2, 3],\n",
    "              [4, 5, 6],\n",
    "              [7, 8, 9]])\n",
    "\n",
    "# Uncomment one by one\n",
    "# print(A)\n",
    "# print(\"Shape:\", A.shape)   # (3, 3) → 3 rows, 3 columns"
   ]
  },
  {
   "cell_type": "code",
   "execution_count": null,
   "id": "24f4a20e",
   "metadata": {},
   "outputs": [],
   "source": []
  },
  {
   "cell_type": "code",
   "execution_count": null,
   "id": "ec6dca03",
   "metadata": {},
   "outputs": [],
   "source": []
  },
  {
   "cell_type": "markdown",
   "id": "c5bf2c56",
   "metadata": {},
   "source": [
    "#### Example: Nutrient Composition of Food Products\n",
    "\n",
    "We have measured the **nutrient composition (per 100 g)** of four different products.  \n",
    "We record **Protein, Fat, and Carbohydrates**:\n",
    "\n",
    "| Product   | Protein (g) | Fat (g) | Carbs (g) |\n",
    "|-----------|-------------|---------|-----------|\n",
    "| Bread     | 9           | 3       | 49        |\n",
    "| Cheese    | 25          | 33      | 1         |\n",
    "| Apple     | 0           | 0       | 14        |\n",
    "| Chicken   | 27          | 3       | 0         |\n",
    "\n",
    "---"
   ]
  },
  {
   "cell_type": "code",
   "execution_count": null,
   "id": "32ae61b8",
   "metadata": {},
   "outputs": [],
   "source": [
    "## Step 1: Store the data in a 2D array\n",
    "\n",
    "import numpy as np\n",
    "\n",
    "# Rows = products, Columns = [Protein, Fat, Carbs]\n",
    "nutrients = np.array([[9, 3, 49],    # Bread\n",
    "                      [25, 33, 1],   # Cheese\n",
    "                      [0, 0, 14],    # Apple\n",
    "                      [27, 3, 0]])   # Chicken\n",
    "\n",
    "print(nutrients.shape)   # (4, 3)\n"
   ]
  },
  {
   "cell_type": "markdown",
   "id": "3c21ee3e",
   "metadata": {},
   "source": [
    "#### Accessing the elements of the array\n",
    "1. Protein content of Cheese (row 1, col 0)\n",
    "\n",
    "`print(nutrients[1, 0])`   \n",
    "\n",
    "2. All nutrient values for Apple (row 2)\n",
    "\n",
    "`print(nutrients[2, :])`\n",
    "\n",
    "3. All carbohydrate values (col 2)\n",
    "\n",
    "`print(nutrients[:, 2])`\n",
    "\n",
    "Try it below"
   ]
  },
  {
   "cell_type": "code",
   "execution_count": null,
   "id": "cadda31b",
   "metadata": {},
   "outputs": [],
   "source": []
  },
  {
   "cell_type": "code",
   "execution_count": null,
   "id": "41bac50b",
   "metadata": {},
   "outputs": [],
   "source": []
  },
  {
   "cell_type": "markdown",
   "id": "284c9a2f",
   "metadata": {},
   "source": [
    "### Tasks\n",
    "\n",
    "1. Print the protein content of Chicken.\n",
    "\n",
    "2. Print the fat content of Cheese.\n",
    "\n",
    "3. Print the whole row for Bread.\n",
    "\n",
    "4. Print the whole column for Protein.\n",
    "\n",
    "5. Print the nutrients of Apple as a 1D array.\n",
    "\n",
    "6. Extract the protein and carbs of Bread and Cheese only.\n",
    "\n",
    "7. Extract the last column (Carbs) for all products using slicing.\n",
    "\n",
    "8. Extract the last row (Chicken) using a negative index."
   ]
  },
  {
   "cell_type": "markdown",
   "id": "56b0624b",
   "metadata": {},
   "source": [
    "##### Hint\n",
    "\n",
    "`array[row, column]` → single element\n",
    "\n",
    "`array[row, :]` → full row\n",
    "\n",
    "`array[:, column]` → full column\n",
    "\n",
    "Negative index `-1` means \"last element/row/column\""
   ]
  },
  {
   "cell_type": "code",
   "execution_count": null,
   "id": "4655ca4b",
   "metadata": {},
   "outputs": [],
   "source": []
  },
  {
   "cell_type": "code",
   "execution_count": null,
   "id": "f6031ef0",
   "metadata": {},
   "outputs": [],
   "source": []
  },
  {
   "cell_type": "markdown",
   "id": "9529a732",
   "metadata": {},
   "source": [
    "### Exercise  Extracting Information from 2D Arrays (NumPy)\n",
    "\n",
    "We will practice selecting **rows, columns, and submatrices** from a 2D NumPy array.\n",
    "\n",
    "---\n",
    "\n",
    "#### Example Matrix\n",
    "\n",
    "Let’s define a matrix `A`:"
   ]
  },
  {
   "cell_type": "code",
   "execution_count": null,
   "id": "c33de3eb",
   "metadata": {},
   "outputs": [],
   "source": [
    "import numpy as np\n",
    "\n",
    "A = np.array([[ 5, 10, 15, 20, 25, 30, 35, 40, 45, 50],\n",
    "              [12, 17, 22, 27, 32, 37, 42, 47, 52, 57],\n",
    "              [10, 15, 20, 25, 30, 35, 40, 45, 50, 55],\n",
    "              [ 7, 12, 17, 22, 27, 32, 37, 42, 47, 52]])\n",
    "print(A.shape)   # (4, 10)"
   ]
  },
  {
   "cell_type": "markdown",
   "id": "dbe598ea",
   "metadata": {},
   "source": [
    "**Tasks**\n",
    "\n",
    "1. Extract the element in **row 4, column 2**.  \n",
    "2. Extract the **entire first row**.  \n",
    "3. Extract the **entire 5th column**.  \n",
    "4. Extract the element in the **last row, 4th column**.  \n",
    "5. Extract the block: rows 2–3, columns 6–9.  \n",
    "6. Extract all rows, columns 1–end (should give the full array back).  \n",
    "7. Extract all rows, but only columns 3–6.  \n",
    "8. Extract the **last 3 columns** of the matrix.  \n",
    "9. Extract the **entire last row** using a negative index.  \n",
    "10. Extract a **2×2 submatrix** made of the top-left corner values.  \n"
   ]
  },
  {
   "cell_type": "code",
   "execution_count": null,
   "id": "0812016a",
   "metadata": {},
   "outputs": [],
   "source": []
  },
  {
   "cell_type": "code",
   "execution_count": null,
   "id": "d4b65e89",
   "metadata": {},
   "outputs": [],
   "source": []
  },
  {
   "cell_type": "markdown",
   "id": "2a053d4e",
   "metadata": {},
   "source": [
    "### Broadcasting in NumPy\n",
    "\n",
    "Broadcasting is a powerful feature in NumPy that lets you perform operations on arrays of **different shapes** without writing loops.  \n",
    "Instead of repeating values manually, NumPy automatically **“stretches”** arrays so that the shapes are compatible.\n",
    "\n",
    "---\n",
    "\n",
    "#### Broadcasting Rules\n",
    "\n",
    "When operating on two arrays, NumPy compares their **shapes**:\n",
    "\n",
    "1. If the shapes are equal, they operate elementwise.  \n",
    "2. If the shapes differ, NumPy tries to **align them from the right**.  \n",
    "3. Dimensions that are `1` can be **stretched** to match the other array.  \n",
    "4. If any dimension is incompatible, you get an error.\n",
    "\n",
    "---"
   ]
  },
  {
   "cell_type": "code",
   "execution_count": null,
   "id": "d2b52ac9",
   "metadata": {},
   "outputs": [],
   "source": [
    "# Example 1\n",
    "import numpy as np\n",
    "\n",
    "a = np.array([1, 2, 3, 4])\n",
    "print(a + 10)   # [11 12 13 14]\n"
   ]
  },
  {
   "cell_type": "code",
   "execution_count": null,
   "id": "e0a3b623",
   "metadata": {},
   "outputs": [],
   "source": [
    "## Example 2\n",
    "A = np.array([[1, 2, 3],\n",
    "              [4, 5, 6]])\n",
    "b = np.array([10, 20, 30])\n",
    "\n",
    "print(A + b)"
   ]
  },
  {
   "cell_type": "markdown",
   "id": "fc944ee3",
   "metadata": {},
   "source": [
    "### Exercise \n",
    "Rabbits in a lab are to be kept on a strict daily diet that includes 25 g of protein, 22 g of fat, and 40 g of carbohydrates. The scientist has only three food mixes available with the following grams of nutrients per unit.\n",
    "\n",
    "    Mix 1 = 3 g protein, 4 g fat, 5 g carbohydrates \t\n",
    "    Mix 2 = 4 g protein, 2 g fat, 6 g carbohydrates\n",
    "    Mix 3 = 5 g protein, 2 g fat, 8 g carbohydrates\n",
    "\n",
    "Find how many units of each mix are needed daily to meet each rabbits dietary need.\n"
   ]
  },
  {
   "cell_type": "markdown",
   "id": "88e7e7ec",
   "metadata": {},
   "source": [
    "- use the command\n",
    "`np.linalg.solve`\n",
    "\n",
    "Hint 1: System of linear equations can be written as $ Ax = b $\n",
    "\n",
    "Hint 2: Create arrays A, and b for the above problem\n",
    "\n",
    "Hint 3: Ensure the dimensions of the arrays. To check the dimension of numpy variable A, use `A.shape()`"
   ]
  },
  {
   "cell_type": "code",
   "execution_count": null,
   "id": "f21a730f",
   "metadata": {},
   "outputs": [],
   "source": []
  },
  {
   "cell_type": "code",
   "execution_count": null,
   "id": "598b8b85",
   "metadata": {},
   "outputs": [],
   "source": []
  },
  {
   "cell_type": "code",
   "execution_count": null,
   "id": "88056bf7",
   "metadata": {},
   "outputs": [],
   "source": []
  },
  {
   "cell_type": "markdown",
   "id": "d04037c6",
   "metadata": {},
   "source": [
    "## Ordinary Differential Equations\n",
    "### Example: Simple Microbial Dynamics without lag or stationary phase\n",
    "\n",
    "$$ \\frac{dn}{dt} = \\mu n $$\n",
    "\n",
    "The solution of this simple ODE can be found analytically. The solution describes how the microbial cell count $n$, changes as a function of time $t$.\n",
    "\n",
    "$$n(t) = N_0 e^{\\mu t} $$\n",
    "\n",
    "### Exercise\n",
    "Create an array, which contains the solution to the ODE between time 0 and 100, at an interval of 10.\n",
    "Use `np.arrange` to create the array for time. Take $n$ at $t = 0$ as 0.1, and $\\mu = 0.1$\n",
    "\n"
   ]
  },
  {
   "cell_type": "code",
   "execution_count": null,
   "id": "f44e798c",
   "metadata": {},
   "outputs": [],
   "source": []
  },
  {
   "cell_type": "code",
   "execution_count": null,
   "id": "20437533",
   "metadata": {},
   "outputs": [],
   "source": []
  },
  {
   "cell_type": "markdown",
   "id": "ccda8be2",
   "metadata": {},
   "source": [
    "## Euler Method\n",
    "Not all ODEs have an analytical solution. Thus, we need to rely on numerical methods to solve such ODEs. A common method is the Euler's method. \n",
    "\n",
    "$$ \\frac{dn}{dt} = \\mu n \\approx \\frac{n(t + \\Delta t) - n(t)}{\\Delta t } $$\n",
    "\n",
    "Thus, we can solve the ODE as\n",
    "\n",
    "$$ n(t_{i+1}) = n(t_i) + \\mu n(t_i) \\Delta t $$"
   ]
  },
  {
   "cell_type": "markdown",
   "id": "9e68f3c6",
   "metadata": {},
   "source": [
    "## Exercise\n",
    "Create an array which contains the solution of the ode obtained using Euler's method."
   ]
  },
  {
   "cell_type": "code",
   "execution_count": null,
   "id": "59c06454",
   "metadata": {},
   "outputs": [],
   "source": []
  },
  {
   "cell_type": "markdown",
   "id": "30bf6461",
   "metadata": {},
   "source": [
    "## Loops\n",
    "\n",
    "A for loop in Python is used to repeat a block of code a certain number of times.\n",
    "\n",
    "It is often used to go through elements in a list, range of numbers, or other sequences.\n",
    "\n",
    "General Syntax:\n",
    "```python\n",
    "for variable in sequence:\n",
    "    # code to repeat\n",
    "```\n",
    "\n",
    "- `variable` takes the value of each element in the sequence (one at a time).\n",
    "\n",
    "- `sequence` can be a list, tuple, string, or something created with range().\n",
    "\n",
    "- The loop ends when all elements have been used.\n",
    "\n"
   ]
  },
  {
   "cell_type": "code",
   "execution_count": null,
   "id": "b9859956",
   "metadata": {},
   "outputs": [],
   "source": [
    "for i in range(1, 6):\n",
    "    print(\"Number:\", i)\n"
   ]
  },
  {
   "cell_type": "markdown",
   "id": "317fbbc4",
   "metadata": {},
   "source": [
    "### Importance of Spaces (Indentation) in Python\n",
    "\n",
    "Unlike MATLAB or many other languages, Python uses indentation (spaces) to define blocks of code.\n",
    "This means you must use the correct number of spaces for your code to run.\n",
    "\n",
    "Standard practice: use 4 spaces for each indentation level.\n",
    "\n",
    "If the indentation is wrong, Python will give an IndentationError."
   ]
  },
  {
   "cell_type": "markdown",
   "id": "b988b06f",
   "metadata": {},
   "source": [
    "### Exercise\n",
    "\n",
    "Use loops to solve the previous exercise. Keep in mind, you need to initialise your array before you start a loop. \n",
    "You can initialise with `np.zeros(nr,nc)`"
   ]
  },
  {
   "cell_type": "markdown",
   "id": "a2d4b522",
   "metadata": {},
   "source": []
  },
  {
   "cell_type": "code",
   "execution_count": null,
   "id": "d384ca8b",
   "metadata": {},
   "outputs": [],
   "source": []
  },
  {
   "cell_type": "code",
   "execution_count": null,
   "id": "586772a3",
   "metadata": {},
   "outputs": [],
   "source": []
  },
  {
   "cell_type": "markdown",
   "id": "9d0918fc",
   "metadata": {},
   "source": [
    "## Functions in Python\n",
    "\n",
    "#### What is a function?\n",
    "\n",
    "- A function is a reusable block of code that performs a specific task.\n",
    "\n",
    "- Functions help to avoid repetition, organize code, and make programs easier to read and maintain.\n",
    "\n",
    "#### Defining a function\n",
    "\n",
    "In Python, we use the `def` keyword:\n",
    "\n",
    "Here is the syntax:\n",
    "```python\n",
    "def function_name(parameters):\n",
    "    \"\"\"Optional docstring to explain the function\"\"\"\n",
    "    # body of the function\n",
    "    return result"
   ]
  },
  {
   "cell_type": "markdown",
   "id": "513b18d7",
   "metadata": {},
   "source": [
    "- `function_name`: must follow variable naming rules.\n",
    "\n",
    "- `parameters`: inputs (optional).\n",
    "\n",
    "- `return`: sends output back to the caller."
   ]
  },
  {
   "cell_type": "code",
   "execution_count": 1,
   "id": "029e6ef8",
   "metadata": {},
   "outputs": [],
   "source": [
    "# Example\n",
    "def area_circle(radius):        # We define the function with name area_circle, it takes one input: radius\n",
    "    pi = 3.14159                # Commands in the function\n",
    "    area = pi * radius**2       # commands in the fuction\n",
    "    return area                 # The function will return the variable area\n"
   ]
  },
  {
   "cell_type": "code",
   "execution_count": 3,
   "id": "5a87c77d",
   "metadata": {},
   "outputs": [
    {
     "data": {
      "text/plain": [
       "78.53975"
      ]
     },
     "execution_count": 3,
     "metadata": {},
     "output_type": "execute_result"
    }
   ],
   "source": [
    "# Calling a function\n",
    "# Once the function is defined, it can be called as follows.\n",
    "area_circle(5)\n",
    "\n",
    "# Here we give the name of the function. Within brackets we provide the input. The function will calculate the area, and return the variable area."
   ]
  },
  {
   "cell_type": "markdown",
   "id": "19fcb76d",
   "metadata": {},
   "source": [
    "### Exercise\n",
    "1. Write a function called `convert_celsius_to_kelvin` that converts temperature from Celsius to Kelvin.\n",
    "\n",
    "Formula: \n",
    "$$ T_K = T_C + 273.15 $$\n",
    "\n",
    "2. Use your function to calculate:\n",
    "\n",
    "- 25 °C in Kelvin\n",
    "\n",
    "- 100 °C in Kelvin\n"
   ]
  },
  {
   "cell_type": "code",
   "execution_count": null,
   "id": "8d0f542c",
   "metadata": {},
   "outputs": [],
   "source": []
  },
  {
   "cell_type": "code",
   "execution_count": null,
   "id": "3af346f3",
   "metadata": {},
   "outputs": [],
   "source": []
  },
  {
   "cell_type": "markdown",
   "id": "a39b9d1c",
   "metadata": {},
   "source": [
    "### Example 3: Function with two inputs\n",
    "\n",
    "You can define functions that take multiple inputs."
   ]
  },
  {
   "cell_type": "code",
   "execution_count": 4,
   "id": "aeca2719",
   "metadata": {},
   "outputs": [],
   "source": [
    "def bmi(weight, height):\n",
    "    \"\"\"Calculate Body Mass Index (BMI)\"\"\"\n",
    "    return weight / (height ** 2)"
   ]
  },
  {
   "cell_type": "code",
   "execution_count": 5,
   "id": "bb604082",
   "metadata": {},
   "outputs": [
    {
     "data": {
      "text/plain": [
       "22.857142857142858"
      ]
     },
     "execution_count": 5,
     "metadata": {},
     "output_type": "execute_result"
    }
   ],
   "source": [
    "bmi(70,1.75)"
   ]
  },
  {
   "cell_type": "markdown",
   "id": "cfcef273",
   "metadata": {},
   "source": [
    "# Exercise 11: Runge-Kutta for ODEs (Python version)\n",
    "\n",
    "We want to solve the differential equation for exponential growth:\n",
    "\n",
    "$$ \\frac{dN(t)}{dt} = \\mu \\cdot N(t) $$\n",
    "\n",
    "using the **Runge-Kutta 4th Order Method (RK4)**.\n",
    "\n",
    "---\n",
    "\n",
    "## Step 1: Recall the RK4 method  \n",
    "\n",
    "For a function $f(t, N)$, the update rule is:\n",
    "\n",
    "$$ N_{i+1} = N_i + \\frac{1}{6}(k_1 + 2k_2 + 2k_3 + k_4) \\Delta t $$\n",
    "\n",
    "where  \n",
    "\n",
    "$ k_1 = f(t_i, N_i) $  \n",
    "\n",
    "$ k_2 = f(t_i + \\tfrac{1}{2}\\Delta t, \\, N_i + \\tfrac{1}{2}k_1 \\Delta t ) $  \n",
    "\n",
    "$ k_3 = f(t_i + \\tfrac{1}{2}\\Delta t, \\, N_i + \\tfrac{1}{2}k_2 \\Delta t ) $  \n",
    "\n",
    "$ k_4 = f(t_i + \\Delta t, \\, N_i + k_3 \\Delta t) $\n",
    "\n",
    "---\n",
    "\n",
    "## Step 2: Problem setup  \n",
    "\n",
    "- Initial condition:  \n",
    "  $N(0) = 5 \\; \\text{CFU}$  \n",
    "\n",
    "- Growth rate:  \n",
    "  $\\mu = 0.1 \\, h^{-1}$  \n",
    "\n",
    "- Final simulation time: **30 h**  \n",
    "- Time step: **5 h**\n",
    "\n",
    "We will compute and compare three solutions:\n",
    "1. **Numerical with RK4**\n",
    "2. **Numerical with Euler method** (for the same step size)  \n",
    "3. **Analytical solution**:\n",
    "   $$N(t) = N(0) \\cdot e^{\\mu t}$$\n",
    "\n",
    "---\n",
    "\n",
    "## Step 3: Python implementation  \n",
    "\n",
    "```python\n",
    "import numpy as np\n",
    "import matplotlib.pyplot as plt\n",
    "\n",
    "# Parameters\n",
    "mu = 0.1       # growth rate [1/h]\n",
    "N0 = 5         # initial population [CFU]\n",
    "t_final = 30   # simulation time [h]\n",
    "dt = 5         # time step [h]\n",
    "\n",
    "# Time vector\n",
    "t = np.arange(0, t_final + dt, dt)\n",
    "\n",
    "# --- Euler Method ---\n",
    "N_euler = np.zeros_like(t, dtype=float)\n",
    "N_euler[0] = N0\n",
    "for i in range(len(t)-1):\n",
    "    N_euler[i+1] = N_euler[i] + dt * mu * N_euler[i]\n",
    "\n",
    "# --- RK4 Method ---\n",
    "N_rk4 = np.zeros_like(t, dtype=float)\n",
    "N_rk4[0] = N0\n",
    "for i in range(len(t)-1):\n",
    "    Ni, ti = N_rk4[i], t[i]\n",
    "    k1 = mu * Ni\n",
    "    k2 = mu * (Ni + 0.5 * dt * k1)\n",
    "    k3 = mu * (Ni + 0.5 * dt * k2)\n",
    "    k4 = mu * (Ni + dt * k3)\n",
    "    N_rk4[i+1] = Ni + (dt/6)*(k1 + 2*k2 + 2*k3 + k4)\n",
    "\n",
    "# --- Analytical Solution ---\n",
    "t_fine = np.linspace(0, t_final, 200)\n",
    "N_exact = N0 * np.exp(mu * t_fine)\n",
    "\n",
    "# --- Plot results ---\n",
    "plt.figure(figsize=(8,5))\n",
    "plt.plot(t, N_euler, 'o--', label=\"Euler method (dt=5 h)\")\n",
    "plt.plot(t, N_rk4, 's-', label=\"RK4 method (dt=5 h)\")\n",
    "plt.plot(t_fine, N_exact, 'k', label=\"Analytical solution\")\n",
    "plt.xlabel(\"Time [h]\")\n",
    "plt.ylabel(\"N(t) [CFU]\")\n",
    "plt.title(\"Exponential Growth: Euler vs RK4 vs Analytical\")\n",
    "plt.grid(True)\n",
    "plt.legend()\n",
    "plt.show()\n"
   ]
  },
  {
   "cell_type": "markdown",
   "id": "1fa05ffd",
   "metadata": {},
   "source": [
    "# Solving the ODE with `solve_ivp`\n",
    "\n",
    "So far, we solved the exponential growth ODE using **Euler** and **Runge-Kutta (RK4)** manually.  \n",
    "Python also provides built-in solvers in **SciPy**, such as:\n",
    "\n",
    "`scipy.integrate.solve_ivp`\n",
    "\n",
    "---\n",
    "\n",
    "## Step 1: The model equation\n",
    "\n",
    "We want to solve:\n",
    "\n",
    "$$\\frac{dN}{dt} = \\mu \\cdot N$$\n",
    "\n",
    "with:\n",
    "- $\\mu = 0.1 \\; h^{-1}$\n",
    "- $N(0) = 5 \\; \\text{CFU}$\n",
    "- Final time = 30 h\n",
    "\n",
    "---\n",
    "\n",
    "## Step 2: How does `solve_ivp` work?\n",
    "\n",
    "- `solve_ivp` requires a function that defines the derivative.  \n",
    "- You also need to provide the time interval, the initial condition, and (optionally) the time points where you want results.  \n",
    "- By default, it uses a **Runge-Kutta method (RK45)**.\n",
    "\n",
    "---\n",
    "\n",
    "## Step 3: Your task 🎯\n",
    "\n",
    "1. **Search on Google (or in the SciPy documentation)**:  \n",
    "   - *\"scipy solve_ivp example\"*  \n",
    "   - *\"python ode solver solve_ivp\"*  \n",
    "\n",
    "2. Write a function for the exponential growth ODE.  \n",
    "\n",
    "3. Use `solve_ivp` to integrate from 0 to 30 h.  \n",
    "\n",
    "4. Compare the result to the analytical solution:  \n",
    "   $ N(t) = N(0) \\cdot e^{\\mu t} $  \n",
    "\n",
    "5. Plot both solutions in the same figure.\n",
    "\n",
    "---\n",
    "\n",
    "## Step 4: Explore further 🔍\n",
    "\n",
    "- Try changing $\\mu$ to see how the growth changes.  \n",
    "- Try different solvers (`\"RK23\"`, `\"Radau\"`, `\"BDF\"`) and see if results differ.  \n",
    "- Change the number of evaluation points (`t_eval`) to control how smooth the curve looks.\n",
    "\n",
    "---\n",
    "\n",
    "👉 *Tip:* Look at the official SciPy documentation here: [https://docs.scipy.org/doc/scipy/reference/generated/scipy.integrate.solve_ivp.html](https://docs.scipy.org/doc/scipy/reference/generated/scipy.integrate.solve_ivp.html)  \n"
   ]
  },
  {
   "cell_type": "markdown",
   "id": "278c4279",
   "metadata": {},
   "source": [
    "# Conditionals in Python\n",
    "\n",
    "In programming, we often want our code to make **decisions** depending on certain conditions.  \n",
    "In Python, this is done using **if, elif, and else** statements.\n",
    "\n",
    "---\n",
    "\n",
    "## Syntax\n",
    "\n",
    "```python\n",
    "if condition:\n",
    "    # code runs if condition is True\n",
    "elif another_condition:\n",
    "    # code runs if the second condition is True\n",
    "else:\n",
    "    # code runs if none of the conditions are True\n"
   ]
  },
  {
   "cell_type": "markdown",
   "id": "ca26d8ce",
   "metadata": {},
   "source": [
    "# Conditional (Comparison) Operators in Python\n",
    "\n",
    "Conditional operators are used to compare values.  \n",
    "They always return a **boolean result**: `True` or `False`.\n",
    "\n",
    "---\n",
    "\n",
    "## List of Conditional Operators\n",
    "\n",
    "| Operator | Meaning | Example | Result |\n",
    "|----------|---------|---------|--------|\n",
    "| `==`     | Equal to | `5 == 5` | `True` |\n",
    "| `!=`     | Not equal to | `5 != 3` | `True` |\n",
    "| `>`      | Greater than | `7 > 3` | `True` |\n",
    "| `<`      | Less than | `2 < 8` | `True` |\n",
    "| `>=`     | Greater than or equal to | `5 >= 5` | `True` |\n",
    "| `<=`     | Less than or equal to | `4 <= 6` | `True` |\n",
    "\n",
    "---\n",
    "\n",
    "## Logical Operators (combine conditions)\n",
    "\n",
    "| Operator | Meaning | Example | Result |\n",
    "|----------|---------|---------|--------|\n",
    "| `and`    | True if **both** conditions are True | `(5 > 3) and (8 > 6)` | `True` |\n",
    "| `or`     | True if **at least one** condition is True | `(5 > 3) or (2 > 6)` | `True` |\n",
    "| `not`    | Negates a condition | `not(5 > 3)` | `False` |\n",
    "\n",
    "---\n",
    "\n",
    "## Examples\n",
    "\n",
    "```python\n",
    "x = 7\n",
    "y = 3\n",
    "\n",
    "print(x > y)      # True\n",
    "print(x < y)      # False\n",
    "print(x == 7)     # True\n",
    "print(x != y)     # True\n",
    "print(x >= 7)     # True\n",
    "print(x <= 10)    # True\n",
    "\n",
    "# Combining conditions\n",
    "print(x > 5 and y < 5)   # True\n",
    "print(x > 10 or y < 5)   # True\n",
    "print(not(x > 10))       # True\n"
   ]
  },
  {
   "cell_type": "markdown",
   "id": "53ad7ab1",
   "metadata": {},
   "source": [
    "# Exercise 13: Conditionals in Python (Cardinal pH Model)\n",
    "\n",
    "We will practice conditionals by modeling **microbial growth depending on pH** using the **Cardinal pH Model (CPM)**.\n",
    "\n",
    "---\n",
    "\n",
    "## Step 1: The model\n",
    "\n",
    "The maximum growth rate μₘₐₓ as a function of pH is defined as:\n",
    "\n",
    "$$\n",
    "\\mu_{max}(pH) = \n",
    "\\begin{cases}\n",
    "0 & \\text{if } pH < pH_{min} \\\\\n",
    "\\mu_{opt} \\cdot \\rho(pH) & \\text{if } pH_{min} \\leq pH \\leq pH_{max} \\\\\n",
    "0 & \\text{if } pH > pH_{max}\n",
    "\\end{cases}\n",
    "$$\n",
    "\n",
    "with  \n",
    "\n",
    "$$\n",
    "\\rho(pH) = \\frac{(pH - pH_{min})(pH - pH_{max})}{(pH - pH_{min})(pH - pH_{max}) - (pH - pH_{opt})^2}\n",
    "$$\n",
    "\n",
    "---\n",
    "\n",
    "## Step 2: Parameter values (for *Listeria monocytogenes*)\n",
    "\n",
    "- $pH_{min} = 4.6$  \n",
    "- $pH_{opt} = 7.1$  \n",
    "- $pH_{max} = 9.4$  \n",
    "- $\\mu_{opt} = 0.95 \\ \\text{h}^{-1}$  \n",
    "\n",
    "---\n",
    "\n",
    "## Step 3: Implement the model in Python\n",
    "\n"
   ]
  },
  {
   "cell_type": "code",
   "execution_count": null,
   "id": "83f6b72c",
   "metadata": {},
   "outputs": [],
   "source": []
  },
  {
   "cell_type": "code",
   "execution_count": null,
   "id": "32631c99",
   "metadata": {},
   "outputs": [],
   "source": []
  },
  {
   "cell_type": "markdown",
   "id": "91fc98d8",
   "metadata": {},
   "source": [
    "## Step 4: Test the function\n",
    "\n",
    "Test the function for pH values:\n",
    "`` 4.0, 4.5, 5.0, 6.0, 7.0, 7.5, 9.0, 9.5, 10.0 `` "
   ]
  },
  {
   "cell_type": "markdown",
   "id": "a2f7fa53",
   "metadata": {},
   "source": [
    "## Step 5: Plot \n",
    "Plot $\\mu_\\text{max}$ as a fuction of pH "
   ]
  },
  {
   "cell_type": "code",
   "execution_count": null,
   "id": "c3c0a051",
   "metadata": {},
   "outputs": [],
   "source": []
  },
  {
   "cell_type": "code",
   "execution_count": null,
   "id": "155b8c5c",
   "metadata": {},
   "outputs": [],
   "source": []
  },
  {
   "cell_type": "markdown",
   "id": "489ee390",
   "metadata": {},
   "source": [
    "# Exercise 13b: Use the CPM $\\mu_{max}(pH)$ in a Growth Curve\n",
    "\n",
    "We now integrate the CPM-based $\\mu_{max}(pH)$ into the **exponential growth model**:\n",
    "\n",
    "$ \\frac{dN}{dt} = \\mu_{max}(pH)\\,N $\n",
    "\n",
    "For a fixed pH, $\\mu_{max}$ is constant, so the analytical solution is:\n",
    "\n",
    "$ N(t) = N_0\\,e^{\\mu_{max}(pH)\\,t} $\n",
    "\n",
    "We will (1) compute $\\mu_{max}(pH)$ via conditionals (CPM), (2) integrate the ODE numerically, and (3) compare to the analytical solution.\n",
    "\n",
    "---\n",
    "\n",
    "## 1) Reuse / define the CPM function\n",
    "\n",
    "```python\n",
    "def mu_max(pH, pH_min=4.6, pH_opt=7.1, pH_max=9.4, mu_opt=0.95):\n",
    "    \"\"\"Cardinal pH Model (CPM) for μmax(pH). Returns 0 outside [pH_min, pH_max].\"\"\"\n",
    "    if pH < pH_min or pH > pH_max:\n",
    "        return 0.0\n",
    "    rho = ((pH - pH_min) * (pH - pH_max)) / (\n",
    "        (pH - pH_min) * (pH - pH_max) - (pH - pH_opt) ** 2\n",
    "    )\n",
    "    return mu_opt * rho\n"
   ]
  },
  {
   "cell_type": "markdown",
   "id": "5fcda9d5",
   "metadata": {},
   "source": [
    "## 2) Define the ODE and integrate numerically\n",
    "Use `solve_ivp` as before"
   ]
  },
  {
   "cell_type": "code",
   "execution_count": null,
   "id": "4126c6da",
   "metadata": {},
   "outputs": [],
   "source": []
  },
  {
   "cell_type": "code",
   "execution_count": null,
   "id": "f954831e",
   "metadata": {},
   "outputs": [],
   "source": [
    "\n"
   ]
  },
  {
   "cell_type": "markdown",
   "id": "4ccf9e6f",
   "metadata": {},
   "source": [
    "# Exercise 14: Continuous Bioreactor\n",
    "\n",
    "We will model a **continuous bioreactor** where substrate and biomass concentrations change over time.\n",
    "\n",
    "---\n",
    "\n",
    "## Mass Balances\n",
    "\n",
    "**Substrate balance:**\n",
    "\n",
    "$$\n",
    "\\frac{dC_S(t)}{dt} = \\frac{F}{V} \\cdot C_{S,in} - \\frac{F}{V} \\cdot C_S(t) - \\frac{\\mu(C_S)}{Y_{X/S}} \\cdot C_X(t)\n",
    "$$\n",
    "\n",
    "**Biomass balance:**\n",
    "\n",
    "$$\n",
    "\\frac{dC_X(t)}{dt} = \\mu(C_S) \\cdot C_X(t) - \\frac{F}{V} \\cdot C_X(t)\n",
    "$$\n",
    "\n",
    "---\n",
    "\n",
    "## Kinetics (Haldane model)\n",
    "\n",
    "The specific growth rate $\\mu(C_S)$ follows **substrate inhibition kinetics**:\n",
    "\n",
    "$$\n",
    "\\mu(C_S) = \\frac{\\mu_{opt} \\cdot C_S}{K_m + C_S + \\frac{C_S^2}{K_i}}\n",
    "$$\n",
    "\n",
    "---\n",
    "\n",
    "## Parameters\n",
    "\n",
    "| Variable | Meaning | Value |\n",
    "|----------|---------|-------|\n",
    "| $F$ | Inflow & outflow rate | 1.2 L/h |\n",
    "| $V$ | Bioreactor volume | 10 L |\n",
    "| $C_{S,in}$ | Substrate inflow concentration | 300 g/L |\n",
    "| $C_S(0)$ | Initial substrate conc. | 200 g/L |\n",
    "| $C_X(0)$ | Initial biomass conc. | 100 g/L |\n",
    "| $t$ | Time | 0–150 h |\n",
    "| $\\mu_{opt}$ | Optimal growth rate | 0.15 h⁻¹ |\n",
    "| $K_m$ | Michaelis constant | 214 g/L |\n",
    "| $K_i$ | Inhibition constant | 22 g/L |\n",
    "| $Y_{X/S}$ | Biomass yield | 0.5 gX/gS |\n",
    "\n",
    "---\n",
    "\n",
    "## Tasks\n",
    "\n",
    "### Part A – Dynamic Simulation (using `solve_ivp`)\n",
    "1. Write a function `haldane(Cs)` that calculates $\\mu(C_S)$.\n",
    "2. Write a function `bioreactor(t, y)` that returns the derivatives:\n",
    "   - $dC_S/dt$\n",
    "   - $dC_X/dt$\n",
    "3. Use `scipy.integrate.solve_ivp` to simulate the system from $t = 0$ to $150$ h.\n",
    "4. Plot $C_S(t)$ and $C_X(t)$ in the **same graph** with proper labels and legend.\n",
    "\n",
    "---\n",
    "\n",
    "### Part B – Steady State (using `fsolve`)\n",
    "At steady state:\n",
    "\n",
    "$$\n",
    "\\frac{dC_S}{dt} = 0, \\quad \\frac{dC_X}{dt} = 0\n",
    "$$\n",
    "\n",
    "1. Modify the function `bioreactor` so it can be used with `scipy.optimize.fsolve`.  \n",
    "2. Use `fsolve` to determine the steady state concentrations $C_S^*$ and $C_X^*$ (start with an initial guess, e.g. `[50, 50]`).  \n",
    "3. Discuss: **Is there more than one steady state?**\n",
    "\n",
    "---\n",
    "\n",
    "💡 *Hint*:  \n",
    "- Use `numpy` for array operations.  \n",
    "- Use `matplotlib` to format your plots (labels, legend, grid).  \n",
    "- Try different initial guesses in `fsolve` to explore multiple steady states.  \n"
   ]
  }
 ],
 "metadata": {
  "kernelspec": {
   "display_name": "base",
   "language": "python",
   "name": "python3"
  },
  "language_info": {
   "codemirror_mode": {
    "name": "ipython",
    "version": 3
   },
   "file_extension": ".py",
   "mimetype": "text/x-python",
   "name": "python",
   "nbconvert_exporter": "python",
   "pygments_lexer": "ipython3",
   "version": "3.11.5"
  }
 },
 "nbformat": 4,
 "nbformat_minor": 5
}
